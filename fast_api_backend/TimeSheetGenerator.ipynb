{
 "cells": [
  {
   "cell_type": "markdown",
   "id": "9fc1d371-8a1e-43f6-b8be-38bcfc1af1df",
   "metadata": {},
   "source": [
    "# "
   ]
  },
  {
   "cell_type": "code",
   "execution_count": 35,
   "id": "9399735c-5099-48e8-83e4-7b7d0c60510b",
   "metadata": {},
   "outputs": [],
   "source": [
    "from app.database import *\n",
    "from app.models import *\n",
    "from app.database.database import *"
   ]
  },
  {
   "cell_type": "code",
   "execution_count": 37,
   "id": "f5c389fa-7b14-499d-9b46-b88fe692c957",
   "metadata": {},
   "outputs": [
    {
     "data": {
      "text/plain": [
       "postgresql+asyncpg://A2SV Bouncer:***@34.165.255.238/Attendance"
      ]
     },
     "execution_count": 37,
     "metadata": {},
     "output_type": "execute_result"
    }
   ],
   "source": [
    "async_engine.url"
   ]
  },
  {
   "cell_type": "code",
   "execution_count": null,
   "id": "b7fcdbec-0468-40ad-ba5d-f465362edfb1",
   "metadata": {},
   "outputs": [],
   "source": []
  },
  {
   "cell_type": "code",
   "execution_count": 153,
   "id": "7401f6aa-8492-41a4-81f0-f1daefcfaa2d",
   "metadata": {},
   "outputs": [],
   "source": [
    "start_date = datetime(month=9, day=1, year=2023).date()\n",
    "end_date = datetime.now().date()\n",
    "one_day = timedelta(days=1)"
   ]
  },
  {
   "cell_type": "code",
   "execution_count": 154,
   "id": "b89941b7-c14f-4492-ab98-a19f9426c63a",
   "metadata": {},
   "outputs": [],
   "source": [
    "current_date = start_date\n",
    "columns = ['Name', 'Project']\n",
    "while(current_date <= end_date):\n",
    "    columns.append(str(current_date))\n",
    "    current_date  += one_day"
   ]
  },
  {
   "cell_type": "code",
   "execution_count": null,
   "id": "7318a7de-a336-4830-8951-2eee47ea2cd0",
   "metadata": {},
   "outputs": [],
   "source": []
  },
  {
   "cell_type": "code",
   "execution_count": 155,
   "id": "9815a206-c670-476f-ac3c-6c8ae0e9c9c7",
   "metadata": {},
   "outputs": [
    {
     "name": "stdout",
     "output_type": "stream",
     "text": [
      "SELECT \"user\".slack_id, \"user\".full_name, \"user\".role, \"user\".employement_status, \"user\".daily_plan_channel, \"user\".headsup_channel, \"user\".check_in_check_out_channel, \"user\".is_admin, \"user\".profile_url, \"user\".timezone, \"user\".project_id \n",
      "FROM \"user\" ORDER BY \"user\".full_name\n"
     ]
    }
   ],
   "source": [
    "users : list[User] = []\n",
    "async with get_db() as session:\n",
    "    query = select(User)\\\n",
    "        .options(selectinload(User.timesheets))\\\n",
    "        .options(selectinload(User.project))\\\n",
    "        .order_by(User.full_name)\n",
    "    print(query)\n",
    "    res = await session.execute(query)\n",
    "    res = res.scalars().all()\n",
    "    users = list(res)"
   ]
  },
  {
   "cell_type": "code",
   "execution_count": 156,
   "id": "5386cb4e-2b60-4537-be45-f1481bd856d4",
   "metadata": {},
   "outputs": [
    {
     "data": {
      "text/plain": [
       "218"
      ]
     },
     "execution_count": 156,
     "metadata": {},
     "output_type": "execute_result"
    }
   ],
   "source": [
    "len(users)"
   ]
  },
  {
   "cell_type": "code",
   "execution_count": 157,
   "id": "8dc01e28-3016-4c7c-9430-84b930e1bb57",
   "metadata": {},
   "outputs": [],
   "source": [
    "import pandas as pd\n"
   ]
  },
  {
   "cell_type": "code",
   "execution_count": 164,
   "id": "b6528127-693d-49b1-8e58-de335f88afab",
   "metadata": {},
   "outputs": [],
   "source": [
    "df = pd.DataFrame(columns=columns)"
   ]
  },
  {
   "cell_type": "code",
   "execution_count": 165,
   "id": "310ca1ec-e196-4460-a8f7-23d5a9fb660f",
   "metadata": {},
   "outputs": [],
   "source": [
    "for user in users:\n",
    "    row = [0.0] * len(columns)\n",
    "    row[0] = user.full_name\n",
    "    row[1] = user.project.name\n",
    "    df.loc[len(df)] = row"
   ]
  },
  {
   "cell_type": "code",
   "execution_count": 166,
   "id": "a7e55d3f-f49e-4653-af5c-c0150cb6c095",
   "metadata": {
    "scrolled": true
   },
   "outputs": [],
   "source": [
    "for idx,user in enumerate(users):\n",
    "    for time_sheet in user.timesheets:\n",
    "        if not time_sheet.check_out_time:\n",
    "            continue\n",
    "        dt = time_sheet.check_in_time.date()\n",
    "        if dt < start_date or dt > end_date:\n",
    "            continue\n",
    "        tm = str(time_sheet.check_in_time.date())\n",
    "        df.at[idx,tm] += time_sheet.elapsed_time/3600"
   ]
  },
  {
   "cell_type": "code",
   "execution_count": 159,
   "id": "464a383d-0892-4225-a783-f20a5905d60a",
   "metadata": {},
   "outputs": [
    {
     "data": {
      "text/plain": [
       "'G4 second year education'"
      ]
     },
     "execution_count": 159,
     "metadata": {},
     "output_type": "execute_result"
    }
   ],
   "source": [
    "users[0].project.name"
   ]
  },
  {
   "cell_type": "code",
   "execution_count": 170,
   "id": "28a9a83d-1d95-4660-a98d-462089933b26",
   "metadata": {},
   "outputs": [],
   "source": [
    "df.to_csv('september-jan19.csv')"
   ]
  },
  {
   "cell_type": "code",
   "execution_count": null,
   "id": "636a9d45-a85d-4dd0-b333-139fdc3752b1",
   "metadata": {},
   "outputs": [],
   "source": []
  }
 ],
 "metadata": {
  "kernelspec": {
   "display_name": "Python 3 (ipykernel)",
   "language": "python",
   "name": "python3"
  },
  "language_info": {
   "codemirror_mode": {
    "name": "ipython",
    "version": 3
   },
   "file_extension": ".py",
   "mimetype": "text/x-python",
   "name": "python",
   "nbconvert_exporter": "python",
   "pygments_lexer": "ipython3",
   "version": "3.11.4"
  }
 },
 "nbformat": 4,
 "nbformat_minor": 5
}
